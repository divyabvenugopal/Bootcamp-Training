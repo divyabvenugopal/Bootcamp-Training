{
  "nbformat": 4,
  "nbformat_minor": 0,
  "metadata": {
    "colab": {
      "name": "BootCampSession_Python.ipynb",
      "provenance": [],
      "collapsed_sections": []
    },
    "kernelspec": {
      "name": "python3",
      "display_name": "Python 3"
    },
    "language_info": {
      "name": "python"
    }
  },
  "cells": [
    {
      "cell_type": "markdown",
      "source": [
        "# **BOOTCAMP SESSION - PYTHON**"
      ],
      "metadata": {
        "id": "S88q_XXsDyoP"
      }
    },
    {
      "cell_type": "code",
      "source": [
        "print(\"Hello World!\")"
      ],
      "metadata": {
        "colab": {
          "base_uri": "https://localhost:8080/"
        },
        "id": "CWcUAtQZDhrW",
        "outputId": "5457dec8-8583-4e84-ba5a-872542545a08"
      },
      "execution_count": 1,
      "outputs": [
        {
          "output_type": "stream",
          "name": "stdout",
          "text": [
            "Hello World!\n"
          ]
        }
      ]
    },
    {
      "cell_type": "code",
      "source": [
        "# variable assignment\n",
        "a=30\n",
        "a"
      ],
      "metadata": {
        "colab": {
          "base_uri": "https://localhost:8080/"
        },
        "id": "O3-INSFGDRwO",
        "outputId": "61328e17-e85e-493d-e2ce-5f724a5d9dfd"
      },
      "execution_count": 2,
      "outputs": [
        {
          "output_type": "execute_result",
          "data": {
            "text/plain": [
              "30"
            ]
          },
          "metadata": {},
          "execution_count": 2
        }
      ]
    },
    {
      "cell_type": "code",
      "source": [
        "#multiple assignment\n",
        "a=b=c=60\n",
        "print(a,b,c)"
      ],
      "metadata": {
        "colab": {
          "base_uri": "https://localhost:8080/"
        },
        "id": "3a3osC8KDR55",
        "outputId": "da0fc98b-ced1-4ad8-cc62-72d786ffb3e2"
      },
      "execution_count": 3,
      "outputs": [
        {
          "output_type": "stream",
          "name": "stdout",
          "text": [
            "60 60 60\n"
          ]
        }
      ]
    },
    {
      "cell_type": "code",
      "source": [
        "#multiple values\n",
        "a,b,c=20,6.7,\"IBM\"\n",
        "print(a,b,c)"
      ],
      "metadata": {
        "colab": {
          "base_uri": "https://localhost:8080/"
        },
        "id": "Ul5jkuwVDR96",
        "outputId": "a81c2e56-cf1f-4789-e047-f5f1405a2228"
      },
      "execution_count": 4,
      "outputs": [
        {
          "output_type": "stream",
          "name": "stdout",
          "text": [
            "20 6.7 IBM\n"
          ]
        }
      ]
    },
    {
      "cell_type": "code",
      "source": [
        "type(a)"
      ],
      "metadata": {
        "colab": {
          "base_uri": "https://localhost:8080/"
        },
        "id": "fIeSf7VE7tRS",
        "outputId": "5e5c2a7d-d5b0-4877-b815-8f402c759d77"
      },
      "execution_count": 5,
      "outputs": [
        {
          "output_type": "execute_result",
          "data": {
            "text/plain": [
              "int"
            ]
          },
          "metadata": {},
          "execution_count": 5
        }
      ]
    },
    {
      "cell_type": "code",
      "source": [
        "str=\"string\"\n",
        "str[5]"
      ],
      "metadata": {
        "colab": {
          "base_uri": "https://localhost:8080/",
          "height": 35
        },
        "id": "f2N5Gv8GDSBi",
        "outputId": "1dfed120-3a7b-4265-e03c-d8a726612d11"
      },
      "execution_count": 6,
      "outputs": [
        {
          "output_type": "execute_result",
          "data": {
            "text/plain": [
              "'g'"
            ],
            "application/vnd.google.colaboratory.intrinsic+json": {
              "type": "string"
            }
          },
          "metadata": {},
          "execution_count": 6
        }
      ]
    },
    {
      "cell_type": "code",
      "source": [
        "str[2:4]"
      ],
      "metadata": {
        "colab": {
          "base_uri": "https://localhost:8080/",
          "height": 35
        },
        "id": "RARjGuqID-aU",
        "outputId": "87bc1191-4def-4b2c-8be9-668b143104e5"
      },
      "execution_count": 7,
      "outputs": [
        {
          "output_type": "execute_result",
          "data": {
            "text/plain": [
              "'ri'"
            ],
            "application/vnd.google.colaboratory.intrinsic+json": {
              "type": "string"
            }
          },
          "metadata": {},
          "execution_count": 7
        }
      ]
    },
    {
      "cell_type": "code",
      "source": [
        "str.index('s')"
      ],
      "metadata": {
        "colab": {
          "base_uri": "https://localhost:8080/"
        },
        "id": "p1nilWOoD-Tx",
        "outputId": "56f4bd6e-8d8a-486a-8bff-47d4cc3649d6"
      },
      "execution_count": 8,
      "outputs": [
        {
          "output_type": "execute_result",
          "data": {
            "text/plain": [
              "0"
            ]
          },
          "metadata": {},
          "execution_count": 8
        }
      ]
    },
    {
      "cell_type": "code",
      "source": [
        "str.upper()"
      ],
      "metadata": {
        "colab": {
          "base_uri": "https://localhost:8080/",
          "height": 35
        },
        "id": "87fYlABADSEY",
        "outputId": "662647b4-3126-4569-e473-0169e6aaa574"
      },
      "execution_count": 9,
      "outputs": [
        {
          "output_type": "execute_result",
          "data": {
            "text/plain": [
              "'STRING'"
            ],
            "application/vnd.google.colaboratory.intrinsic+json": {
              "type": "string"
            }
          },
          "metadata": {},
          "execution_count": 9
        }
      ]
    },
    {
      "cell_type": "code",
      "source": [
        "str.lower()"
      ],
      "metadata": {
        "id": "J5c9hzQkto3s",
        "colab": {
          "base_uri": "https://localhost:8080/",
          "height": 35
        },
        "outputId": "600eb7a4-351d-4e1d-d174-f490f61766ea"
      },
      "execution_count": 10,
      "outputs": [
        {
          "output_type": "execute_result",
          "data": {
            "text/plain": [
              "'string'"
            ],
            "application/vnd.google.colaboratory.intrinsic+json": {
              "type": "string"
            }
          },
          "metadata": {},
          "execution_count": 10
        }
      ]
    },
    {
      "cell_type": "code",
      "source": [
        "s=\"  hi   \"\n",
        "s.strip()"
      ],
      "metadata": {
        "colab": {
          "base_uri": "https://localhost:8080/",
          "height": 35
        },
        "id": "MdZEDZOFDSHR",
        "outputId": "e5ac9216-9fbd-4ffd-e8e0-3c552a759b0f"
      },
      "execution_count": 11,
      "outputs": [
        {
          "output_type": "execute_result",
          "data": {
            "text/plain": [
              "'hi'"
            ],
            "application/vnd.google.colaboratory.intrinsic+json": {
              "type": "string"
            }
          },
          "metadata": {},
          "execution_count": 11
        }
      ]
    },
    {
      "cell_type": "code",
      "source": [
        "age=22\n",
        "s1=\"Age is {}\"\n",
        "s1.format(age)"
      ],
      "metadata": {
        "colab": {
          "base_uri": "https://localhost:8080/",
          "height": 35
        },
        "id": "E_dQNOygG2_Z",
        "outputId": "43e85760-2b52-4482-c176-b6220a636dfc"
      },
      "execution_count": 12,
      "outputs": [
        {
          "output_type": "execute_result",
          "data": {
            "text/plain": [
              "'Age is 22'"
            ],
            "application/vnd.google.colaboratory.intrinsic+json": {
              "type": "string"
            }
          },
          "metadata": {},
          "execution_count": 12
        }
      ]
    },
    {
      "cell_type": "code",
      "source": [
        "for i in range(0,20,2):\n",
        "  print(i)"
      ],
      "metadata": {
        "colab": {
          "base_uri": "https://localhost:8080/"
        },
        "id": "5H5PztozHFrH",
        "outputId": "d2b7e0a7-d65d-4a7b-c0bc-daf61fb514c2"
      },
      "execution_count": 13,
      "outputs": [
        {
          "output_type": "stream",
          "name": "stdout",
          "text": [
            "0\n",
            "2\n",
            "4\n",
            "6\n",
            "8\n",
            "10\n",
            "12\n",
            "14\n",
            "16\n",
            "18\n"
          ]
        }
      ]
    },
    {
      "cell_type": "code",
      "source": [
        "for i in range(20,0,-2):\n",
        "  print(i)"
      ],
      "metadata": {
        "colab": {
          "base_uri": "https://localhost:8080/"
        },
        "id": "TrpDreKoHN7y",
        "outputId": "881bd2de-061e-465e-acc1-33d694d9ce98"
      },
      "execution_count": 14,
      "outputs": [
        {
          "output_type": "stream",
          "name": "stdout",
          "text": [
            "20\n",
            "18\n",
            "16\n",
            "14\n",
            "12\n",
            "10\n",
            "8\n",
            "6\n",
            "4\n",
            "2\n"
          ]
        }
      ]
    },
    {
      "cell_type": "code",
      "source": [
        "def calculator(a,b,op):\n",
        "    if(op==\"+\"):\n",
        "        return a+b\n",
        "    elif(op==\"-\"):\n",
        "        return a-b\n",
        "    elif(op==\"*\"):\n",
        "        return a*b\n",
        "    elif(op==\"/\"):\n",
        "        return a/b\n",
        "    else:\n",
        "        return \"Wrong Operator\"\n",
        "        \n",
        "print(calculator(5,10,\"*\"))"
      ],
      "metadata": {
        "colab": {
          "base_uri": "https://localhost:8080/"
        },
        "id": "yU71OfuaE2oT",
        "outputId": "85d15b73-0c4a-48d2-e957-e313f5138b3f"
      },
      "execution_count": 15,
      "outputs": [
        {
          "output_type": "stream",
          "name": "stdout",
          "text": [
            "50\n"
          ]
        }
      ]
    },
    {
      "cell_type": "code",
      "source": [
        "#list\n",
        "l=[1,2,3,4,5]\n",
        "l[4]"
      ],
      "metadata": {
        "colab": {
          "base_uri": "https://localhost:8080/"
        },
        "id": "XZFrvr49E6u3",
        "outputId": "2a8afa93-1bc4-44bc-f784-7d6b4ede0707"
      },
      "execution_count": 16,
      "outputs": [
        {
          "output_type": "execute_result",
          "data": {
            "text/plain": [
              "5"
            ]
          },
          "metadata": {},
          "execution_count": 16
        }
      ]
    },
    {
      "cell_type": "code",
      "source": [
        "l[2:4]"
      ],
      "metadata": {
        "colab": {
          "base_uri": "https://localhost:8080/"
        },
        "id": "CZBDsMk1FGbr",
        "outputId": "17448f99-335c-4c1c-a684-785e9b23485d"
      },
      "execution_count": 17,
      "outputs": [
        {
          "output_type": "execute_result",
          "data": {
            "text/plain": [
              "[3, 4]"
            ]
          },
          "metadata": {},
          "execution_count": 17
        }
      ]
    },
    {
      "cell_type": "code",
      "source": [
        "for i in l:\n",
        "  print(i)"
      ],
      "metadata": {
        "colab": {
          "base_uri": "https://localhost:8080/"
        },
        "id": "aYEsGFtZF8IR",
        "outputId": "afef5b17-420a-489c-c32d-a54c3976cad1"
      },
      "execution_count": 18,
      "outputs": [
        {
          "output_type": "stream",
          "name": "stdout",
          "text": [
            "1\n",
            "2\n",
            "3\n",
            "4\n",
            "5\n"
          ]
        }
      ]
    },
    {
      "cell_type": "code",
      "source": [
        "list1=['a',1,'IBM',5.5]\n",
        "\n",
        "if 'IBM' in list1:\n",
        "  print(\"Yes\")"
      ],
      "metadata": {
        "colab": {
          "base_uri": "https://localhost:8080/"
        },
        "id": "LbkKMT_RGBtF",
        "outputId": "88f6b133-2201-4714-f419-c03816db4bf4"
      },
      "execution_count": 19,
      "outputs": [
        {
          "output_type": "stream",
          "name": "stdout",
          "text": [
            "Yes\n"
          ]
        }
      ]
    },
    {
      "cell_type": "code",
      "source": [
        "list1.insert(1,\"Hi\")\n",
        "list1"
      ],
      "metadata": {
        "colab": {
          "base_uri": "https://localhost:8080/"
        },
        "id": "1SkAaY3xGD2o",
        "outputId": "0959a958-aacd-47d4-d589-5aa1e382032e"
      },
      "execution_count": 20,
      "outputs": [
        {
          "output_type": "execute_result",
          "data": {
            "text/plain": [
              "['a', 'Hi', 1, 'IBM', 5.5]"
            ]
          },
          "metadata": {},
          "execution_count": 20
        }
      ]
    },
    {
      "cell_type": "code",
      "source": [
        "list1.append('Training')\n",
        "list1"
      ],
      "metadata": {
        "colab": {
          "base_uri": "https://localhost:8080/"
        },
        "id": "7KLvzXVrGKLD",
        "outputId": "60efc3be-f884-47b5-e53f-0c605d58a62e"
      },
      "execution_count": 21,
      "outputs": [
        {
          "output_type": "execute_result",
          "data": {
            "text/plain": [
              "['a', 'Hi', 1, 'IBM', 5.5, 'Training']"
            ]
          },
          "metadata": {},
          "execution_count": 21
        }
      ]
    },
    {
      "cell_type": "code",
      "source": [
        "list1.pop()\n",
        "list1"
      ],
      "metadata": {
        "colab": {
          "base_uri": "https://localhost:8080/"
        },
        "id": "Vu2dGF44GK9C",
        "outputId": "016564ee-b162-4bca-825c-4b8d32c76221"
      },
      "execution_count": 22,
      "outputs": [
        {
          "output_type": "execute_result",
          "data": {
            "text/plain": [
              "['a', 'Hi', 1, 'IBM', 5.5]"
            ]
          },
          "metadata": {},
          "execution_count": 22
        }
      ]
    },
    {
      "cell_type": "code",
      "source": [
        "list2=[8,\"Hey\"]\n",
        "list1.extend(list2)\n",
        "list1"
      ],
      "metadata": {
        "colab": {
          "base_uri": "https://localhost:8080/"
        },
        "id": "W2mMfy8vGUa8",
        "outputId": "177c1832-ad4c-4579-992c-f86b4efd4eae"
      },
      "execution_count": 23,
      "outputs": [
        {
          "output_type": "execute_result",
          "data": {
            "text/plain": [
              "['a', 'Hi', 1, 'IBM', 5.5, 8, 'Hey']"
            ]
          },
          "metadata": {},
          "execution_count": 23
        }
      ]
    },
    {
      "cell_type": "code",
      "execution_count": 24,
      "metadata": {
        "colab": {
          "base_uri": "https://localhost:8080/"
        },
        "id": "lEngeMKlEW7b",
        "outputId": "92adc26a-4cc9-48b0-b3de-775fba66e6a6"
      },
      "outputs": [
        {
          "output_type": "execute_result",
          "data": {
            "text/plain": [
              "['a', 1, 'IBM', 5.5, 8, 'Hey']"
            ]
          },
          "metadata": {},
          "execution_count": 24
        }
      ],
      "source": [
        "list1.remove(\"Hi\")\n",
        "list1"
      ]
    },
    {
      "cell_type": "code",
      "source": [
        "list1=range(5)\n",
        "for i in list1:\n",
        "  print(i)"
      ],
      "metadata": {
        "colab": {
          "base_uri": "https://localhost:8080/"
        },
        "id": "Lz94Nfgbtihp",
        "outputId": "4cf7f048-8b42-4a4a-f929-53658a86875a"
      },
      "execution_count": 25,
      "outputs": [
        {
          "output_type": "stream",
          "name": "stdout",
          "text": [
            "0\n",
            "1\n",
            "2\n",
            "3\n",
            "4\n"
          ]
        }
      ]
    },
    {
      "cell_type": "code",
      "source": [
        "# List comphension\n",
        "newl=[i for i in range(5)]\n",
        "newl"
      ],
      "metadata": {
        "id": "R4lMVNPlulNR",
        "colab": {
          "base_uri": "https://localhost:8080/"
        },
        "outputId": "ab6efcef-985e-4c7b-bb16-5ac63318133f"
      },
      "execution_count": 26,
      "outputs": [
        {
          "output_type": "execute_result",
          "data": {
            "text/plain": [
              "[0, 1, 2, 3, 4]"
            ]
          },
          "metadata": {},
          "execution_count": 26
        }
      ]
    },
    {
      "cell_type": "code",
      "source": [
        "#Tuple\n",
        "tuple1=('a',1,'IBM',5.5)\n",
        "tuple1"
      ],
      "metadata": {
        "id": "eUC_2mqAuq3F",
        "colab": {
          "base_uri": "https://localhost:8080/"
        },
        "outputId": "8442e72a-831d-48ee-cf35-6834d025cd07"
      },
      "execution_count": 27,
      "outputs": [
        {
          "output_type": "execute_result",
          "data": {
            "text/plain": [
              "('a', 1, 'IBM', 5.5)"
            ]
          },
          "metadata": {},
          "execution_count": 27
        }
      ]
    },
    {
      "cell_type": "code",
      "source": [
        "tuple2=tuple()\n",
        "tuple2"
      ],
      "metadata": {
        "id": "Y3AlQV2tuvca",
        "colab": {
          "base_uri": "https://localhost:8080/"
        },
        "outputId": "ad680ad1-0d56-48e2-8393-f810da3341b5"
      },
      "execution_count": 28,
      "outputs": [
        {
          "output_type": "execute_result",
          "data": {
            "text/plain": [
              "()"
            ]
          },
          "metadata": {},
          "execution_count": 28
        }
      ]
    },
    {
      "cell_type": "code",
      "source": [
        "#indexing\n",
        "tuple1[2]"
      ],
      "metadata": {
        "id": "aalxMwlMvAjs",
        "colab": {
          "base_uri": "https://localhost:8080/",
          "height": 35
        },
        "outputId": "723e3324-219e-4be6-9021-0a3f9457bae0"
      },
      "execution_count": 29,
      "outputs": [
        {
          "output_type": "execute_result",
          "data": {
            "text/plain": [
              "'IBM'"
            ],
            "application/vnd.google.colaboratory.intrinsic+json": {
              "type": "string"
            }
          },
          "metadata": {},
          "execution_count": 29
        }
      ]
    },
    {
      "cell_type": "code",
      "source": [
        "tuple2=('Hi',346,'abc',234)\n",
        "tuple2"
      ],
      "metadata": {
        "colab": {
          "base_uri": "https://localhost:8080/"
        },
        "id": "LPOzRmTWvDut",
        "outputId": "9f09ce58-adfc-4512-e5bb-e099e6ef0fdd"
      },
      "execution_count": 30,
      "outputs": [
        {
          "output_type": "execute_result",
          "data": {
            "text/plain": [
              "('Hi', 346, 'abc', 234)"
            ]
          },
          "metadata": {},
          "execution_count": 30
        }
      ]
    },
    {
      "cell_type": "code",
      "source": [
        "tuple1=tuple2\n",
        "tuple1"
      ],
      "metadata": {
        "colab": {
          "base_uri": "https://localhost:8080/"
        },
        "id": "LFuCW64ovFw8",
        "outputId": "a01dfbb5-b8fe-45ba-d97a-ae520282e42d"
      },
      "execution_count": 31,
      "outputs": [
        {
          "output_type": "execute_result",
          "data": {
            "text/plain": [
              "('Hi', 346, 'abc', 234)"
            ]
          },
          "metadata": {},
          "execution_count": 31
        }
      ]
    },
    {
      "cell_type": "code",
      "source": [
        "lst_tuple=list(tuple1)\n",
        "lst_tuple"
      ],
      "metadata": {
        "id": "9GDRT-tuvOTn",
        "colab": {
          "base_uri": "https://localhost:8080/"
        },
        "outputId": "eaa31c2c-da60-4465-d9ed-7fa9fbfe171f"
      },
      "execution_count": 32,
      "outputs": [
        {
          "output_type": "execute_result",
          "data": {
            "text/plain": [
              "['Hi', 346, 'abc', 234]"
            ]
          },
          "metadata": {},
          "execution_count": 32
        }
      ]
    },
    {
      "cell_type": "code",
      "source": [
        "lst_tuple.remove(234)\n",
        "lst_tuple"
      ],
      "metadata": {
        "id": "geugi1-UvPFu",
        "colab": {
          "base_uri": "https://localhost:8080/"
        },
        "outputId": "b447ef98-f3ad-4300-8f20-75a00c6f9510"
      },
      "execution_count": 33,
      "outputs": [
        {
          "output_type": "execute_result",
          "data": {
            "text/plain": [
              "['Hi', 346, 'abc']"
            ]
          },
          "metadata": {},
          "execution_count": 33
        }
      ]
    },
    {
      "cell_type": "code",
      "source": [
        "tuple(lst_tuple)"
      ],
      "metadata": {
        "id": "puSsaeg0vSR1",
        "colab": {
          "base_uri": "https://localhost:8080/"
        },
        "outputId": "b82ad8b7-2971-4496-ea80-c243ee71612c"
      },
      "execution_count": 34,
      "outputs": [
        {
          "output_type": "execute_result",
          "data": {
            "text/plain": [
              "('Hi', 346, 'abc')"
            ]
          },
          "metadata": {},
          "execution_count": 34
        }
      ]
    },
    {
      "cell_type": "code",
      "source": [
        "del tuple1"
      ],
      "metadata": {
        "id": "VWuov-81vdT7"
      },
      "execution_count": 35,
      "outputs": []
    },
    {
      "cell_type": "code",
      "source": [
        "for i in tuple2:\n",
        "  print(i)"
      ],
      "metadata": {
        "id": "RzjEVl9pvkby",
        "colab": {
          "base_uri": "https://localhost:8080/"
        },
        "outputId": "bce2dea5-6bef-4083-c2ef-4f8e6ade48aa"
      },
      "execution_count": 36,
      "outputs": [
        {
          "output_type": "stream",
          "name": "stdout",
          "text": [
            "Hi\n",
            "346\n",
            "abc\n",
            "234\n"
          ]
        }
      ]
    },
    {
      "cell_type": "code",
      "source": [
        "tuple2.count(3)"
      ],
      "metadata": {
        "id": "mIHVwGCcvyyy",
        "colab": {
          "base_uri": "https://localhost:8080/"
        },
        "outputId": "758f08a6-e776-4b13-a2b2-88dd7a1cb84f"
      },
      "execution_count": 37,
      "outputs": [
        {
          "output_type": "execute_result",
          "data": {
            "text/plain": [
              "0"
            ]
          },
          "metadata": {},
          "execution_count": 37
        }
      ]
    },
    {
      "cell_type": "code",
      "source": [
        "tuple2.index(346)"
      ],
      "metadata": {
        "id": "VJtemuREv0kD",
        "colab": {
          "base_uri": "https://localhost:8080/"
        },
        "outputId": "10685860-331b-48cd-d23c-1bc1c697b1cb"
      },
      "execution_count": 38,
      "outputs": [
        {
          "output_type": "execute_result",
          "data": {
            "text/plain": [
              "1"
            ]
          },
          "metadata": {},
          "execution_count": 38
        }
      ]
    },
    {
      "cell_type": "code",
      "source": [
        "#set\n",
        "set1=set()"
      ],
      "metadata": {
        "id": "jDKXf_MowIRl"
      },
      "execution_count": 39,
      "outputs": []
    },
    {
      "cell_type": "code",
      "source": [
        "set1={1,2,3,4,2,3,5,6}\n",
        "set1"
      ],
      "metadata": {
        "id": "yteSeOzMwNq0",
        "colab": {
          "base_uri": "https://localhost:8080/"
        },
        "outputId": "175e3422-f73b-4301-9954-f3875d2f44a7"
      },
      "execution_count": 40,
      "outputs": [
        {
          "output_type": "execute_result",
          "data": {
            "text/plain": [
              "{1, 2, 3, 4, 5, 6}"
            ]
          },
          "metadata": {},
          "execution_count": 40
        }
      ]
    },
    {
      "cell_type": "code",
      "source": [
        "print(len(set1))"
      ],
      "metadata": {
        "id": "OEQYWOkOwNkz",
        "colab": {
          "base_uri": "https://localhost:8080/"
        },
        "outputId": "06d5883b-02cc-4a1b-92b2-e3b1c02a140d"
      },
      "execution_count": 41,
      "outputs": [
        {
          "output_type": "stream",
          "name": "stdout",
          "text": [
            "6\n"
          ]
        }
      ]
    },
    {
      "cell_type": "code",
      "source": [
        "set2=set((1,2,2,3,3,3))\n",
        "set2"
      ],
      "metadata": {
        "id": "2hM6iQs5wVtF",
        "colab": {
          "base_uri": "https://localhost:8080/"
        },
        "outputId": "5ad9bee2-88a6-48f2-eba9-ab047c7164c8"
      },
      "execution_count": 42,
      "outputs": [
        {
          "output_type": "execute_result",
          "data": {
            "text/plain": [
              "{1, 2, 3}"
            ]
          },
          "metadata": {},
          "execution_count": 42
        }
      ]
    },
    {
      "cell_type": "code",
      "source": [
        "3 in set2"
      ],
      "metadata": {
        "id": "JAMDoGzHwXYU",
        "colab": {
          "base_uri": "https://localhost:8080/"
        },
        "outputId": "61269be8-1656-46ab-b5eb-78c7957fdb26"
      },
      "execution_count": 43,
      "outputs": [
        {
          "output_type": "execute_result",
          "data": {
            "text/plain": [
              "True"
            ]
          },
          "metadata": {},
          "execution_count": 43
        }
      ]
    },
    {
      "cell_type": "code",
      "source": [
        "set2.add(\"IBM\")\n",
        "set2"
      ],
      "metadata": {
        "id": "rUnyUtZzwbOi",
        "colab": {
          "base_uri": "https://localhost:8080/"
        },
        "outputId": "aaad4c1a-8235-4ffb-959f-83a254ae09f6"
      },
      "execution_count": 44,
      "outputs": [
        {
          "output_type": "execute_result",
          "data": {
            "text/plain": [
              "{1, 2, 3, 'IBM'}"
            ]
          },
          "metadata": {},
          "execution_count": 44
        }
      ]
    },
    {
      "cell_type": "code",
      "source": [
        "set2.pop()\n",
        "set2"
      ],
      "metadata": {
        "id": "YyeeT2PBwgbd",
        "colab": {
          "base_uri": "https://localhost:8080/"
        },
        "outputId": "05a91c26-268d-4daa-c5e5-4571e38d1445"
      },
      "execution_count": 45,
      "outputs": [
        {
          "output_type": "execute_result",
          "data": {
            "text/plain": [
              "{1, 2, 3}"
            ]
          },
          "metadata": {},
          "execution_count": 45
        }
      ]
    },
    {
      "cell_type": "code",
      "source": [
        "set1.clear()\n",
        "set1"
      ],
      "metadata": {
        "id": "nXXe2H08wlpY",
        "colab": {
          "base_uri": "https://localhost:8080/"
        },
        "outputId": "18fbd258-316e-4444-fd42-a2729158bec9"
      },
      "execution_count": 46,
      "outputs": [
        {
          "output_type": "execute_result",
          "data": {
            "text/plain": [
              "set()"
            ]
          },
          "metadata": {},
          "execution_count": 46
        }
      ]
    },
    {
      "cell_type": "code",
      "source": [
        "del set1"
      ],
      "metadata": {
        "id": "xlBTiiVSw7j1"
      },
      "execution_count": 47,
      "outputs": []
    },
    {
      "cell_type": "code",
      "source": [
        "dict1={\n",
        "    \"key1\":\"value1\",\n",
        "    \"key2\":\"value2\",\n",
        "    \"key3\":\"value3\"\n",
        "}\n",
        "dict1"
      ],
      "metadata": {
        "id": "GTeAmsEYvpC9",
        "colab": {
          "base_uri": "https://localhost:8080/"
        },
        "outputId": "f8b6f0ca-2592-4008-c76a-0a4eec801878"
      },
      "execution_count": 48,
      "outputs": [
        {
          "output_type": "execute_result",
          "data": {
            "text/plain": [
              "{'key1': 'value1', 'key2': 'value2', 'key3': 'value3'}"
            ]
          },
          "metadata": {},
          "execution_count": 48
        }
      ]
    },
    {
      "cell_type": "code",
      "source": [
        "dict1[\"key2\"]"
      ],
      "metadata": {
        "id": "b_FU0ynHxNbR",
        "colab": {
          "base_uri": "https://localhost:8080/",
          "height": 35
        },
        "outputId": "1278209d-838b-46d2-a5fa-9effc11e3bf9"
      },
      "execution_count": 49,
      "outputs": [
        {
          "output_type": "execute_result",
          "data": {
            "text/plain": [
              "'value2'"
            ],
            "application/vnd.google.colaboratory.intrinsic+json": {
              "type": "string"
            }
          },
          "metadata": {},
          "execution_count": 49
        }
      ]
    },
    {
      "cell_type": "code",
      "source": [
        "dict2={\n",
        "    \"keya\":\"valuea\",\n",
        "    \"keyb\":123,\n",
        "    \"keyc\":345\n",
        "}\n",
        "dict2"
      ],
      "metadata": {
        "id": "QzbXXIVhxP4H",
        "colab": {
          "base_uri": "https://localhost:8080/"
        },
        "outputId": "c4f86de8-1d5b-4060-b968-529202363ad8"
      },
      "execution_count": 50,
      "outputs": [
        {
          "output_type": "execute_result",
          "data": {
            "text/plain": [
              "{'keya': 'valuea', 'keyb': 123, 'keyc': 345}"
            ]
          },
          "metadata": {},
          "execution_count": 50
        }
      ]
    },
    {
      "cell_type": "code",
      "source": [
        "len(dict2)"
      ],
      "metadata": {
        "id": "9fpYkr1_xUPI",
        "colab": {
          "base_uri": "https://localhost:8080/"
        },
        "outputId": "20d73560-a21d-4cdd-f42e-1b766b82093c"
      },
      "execution_count": 51,
      "outputs": [
        {
          "output_type": "execute_result",
          "data": {
            "text/plain": [
              "3"
            ]
          },
          "metadata": {},
          "execution_count": 51
        }
      ]
    },
    {
      "cell_type": "code",
      "source": [
        "dict1.get(\"key2\")"
      ],
      "metadata": {
        "id": "J-yViC6ZxWIS",
        "colab": {
          "base_uri": "https://localhost:8080/",
          "height": 35
        },
        "outputId": "a0b46d19-f2b1-4412-d21c-4117811be3d5"
      },
      "execution_count": 52,
      "outputs": [
        {
          "output_type": "execute_result",
          "data": {
            "text/plain": [
              "'value2'"
            ],
            "application/vnd.google.colaboratory.intrinsic+json": {
              "type": "string"
            }
          },
          "metadata": {},
          "execution_count": 52
        }
      ]
    },
    {
      "cell_type": "code",
      "source": [
        "dict1.keys()"
      ],
      "metadata": {
        "id": "CVwRM36Rxd8z",
        "colab": {
          "base_uri": "https://localhost:8080/"
        },
        "outputId": "8001b44d-6648-4d57-c6f9-9b7a113970c2"
      },
      "execution_count": 53,
      "outputs": [
        {
          "output_type": "execute_result",
          "data": {
            "text/plain": [
              "dict_keys(['key1', 'key2', 'key3'])"
            ]
          },
          "metadata": {},
          "execution_count": 53
        }
      ]
    },
    {
      "cell_type": "code",
      "source": [
        "dict1.values()"
      ],
      "metadata": {
        "id": "Ij7Z9r8Txdeg",
        "colab": {
          "base_uri": "https://localhost:8080/"
        },
        "outputId": "283843a6-7529-4f0a-a99a-fc291d31c4c5"
      },
      "execution_count": 54,
      "outputs": [
        {
          "output_type": "execute_result",
          "data": {
            "text/plain": [
              "dict_values(['value1', 'value2', 'value3'])"
            ]
          },
          "metadata": {},
          "execution_count": 54
        }
      ]
    },
    {
      "cell_type": "code",
      "source": [
        "dict1.items()"
      ],
      "metadata": {
        "id": "0onvgiTjxjSC",
        "colab": {
          "base_uri": "https://localhost:8080/"
        },
        "outputId": "18bbf934-1380-4b2a-e227-2bef3966c68e"
      },
      "execution_count": 55,
      "outputs": [
        {
          "output_type": "execute_result",
          "data": {
            "text/plain": [
              "dict_items([('key1', 'value1'), ('key2', 'value2'), ('key3', 'value3')])"
            ]
          },
          "metadata": {},
          "execution_count": 55
        }
      ]
    },
    {
      "cell_type": "code",
      "source": [
        "\"key1\" in dict1"
      ],
      "metadata": {
        "id": "MpiRfj6Exln9",
        "colab": {
          "base_uri": "https://localhost:8080/"
        },
        "outputId": "6e6fcd32-5f75-4708-c04a-2eaf6e0ef053"
      },
      "execution_count": 56,
      "outputs": [
        {
          "output_type": "execute_result",
          "data": {
            "text/plain": [
              "True"
            ]
          },
          "metadata": {},
          "execution_count": 56
        }
      ]
    },
    {
      "cell_type": "code",
      "source": [
        "for i in dict1:\n",
        "  print(dict1[i])"
      ],
      "metadata": {
        "id": "idoYq510xoyl",
        "colab": {
          "base_uri": "https://localhost:8080/"
        },
        "outputId": "1c6dd2e3-d732-4c05-891f-37edade87c80"
      },
      "execution_count": 57,
      "outputs": [
        {
          "output_type": "stream",
          "name": "stdout",
          "text": [
            "value1\n",
            "value2\n",
            "value3\n"
          ]
        }
      ]
    },
    {
      "cell_type": "code",
      "source": [
        "dict2=dict1.copy()\n",
        "dict2"
      ],
      "metadata": {
        "id": "AiLw3-8Nxq9b",
        "colab": {
          "base_uri": "https://localhost:8080/"
        },
        "outputId": "b765cd7e-f0aa-4cd3-802d-783493f0f83a"
      },
      "execution_count": 58,
      "outputs": [
        {
          "output_type": "execute_result",
          "data": {
            "text/plain": [
              "{'key1': 'value1', 'key2': 'value2', 'key3': 'value3'}"
            ]
          },
          "metadata": {},
          "execution_count": 58
        }
      ]
    },
    {
      "cell_type": "code",
      "source": [
        "dict1={\n",
        "    \"Employee1\":{\n",
        "        \"Name\":\"ABC\",\n",
        "        \"YOJ\":2022\n",
        "    },\n",
        "    \"Employee2\":{\n",
        "        \"Name\":\"DEF\",\n",
        "        \"YOJ\":2021\n",
        "    }\n",
        "}\n",
        "dict1"
      ],
      "metadata": {
        "id": "FXJUDwDIx2WO",
        "colab": {
          "base_uri": "https://localhost:8080/"
        },
        "outputId": "53f3bda7-bd57-4175-f4e6-77345c9eca70"
      },
      "execution_count": 59,
      "outputs": [
        {
          "output_type": "execute_result",
          "data": {
            "text/plain": [
              "{'Employee1': {'Name': 'ABC', 'YOJ': 2022},\n",
              " 'Employee2': {'Name': 'DEF', 'YOJ': 2021}}"
            ]
          },
          "metadata": {},
          "execution_count": 59
        }
      ]
    },
    {
      "cell_type": "code",
      "source": [
        "dict1[\"Employee1\"][\"Name\"]"
      ],
      "metadata": {
        "id": "3A06O4KjxEq8",
        "colab": {
          "base_uri": "https://localhost:8080/",
          "height": 35
        },
        "outputId": "ee04b344-9810-4929-8558-7bafbcba1d85"
      },
      "execution_count": 60,
      "outputs": [
        {
          "output_type": "execute_result",
          "data": {
            "text/plain": [
              "'ABC'"
            ],
            "application/vnd.google.colaboratory.intrinsic+json": {
              "type": "string"
            }
          },
          "metadata": {},
          "execution_count": 60
        }
      ]
    },
    {
      "cell_type": "code",
      "source": [
        "def square(num):\n",
        "  return(num*num)\n",
        "\n",
        "print(square(5))\n",
        "\n",
        "squared_value = lambda n:n*n\n",
        "print(squared_value(5))"
      ],
      "metadata": {
        "colab": {
          "base_uri": "https://localhost:8080/"
        },
        "id": "UTqWPhSlVk4Y",
        "outputId": "142ef51e-2a98-4796-e954-f09dde7f2fb1"
      },
      "execution_count": 61,
      "outputs": [
        {
          "output_type": "stream",
          "name": "stdout",
          "text": [
            "25\n",
            "25\n"
          ]
        }
      ]
    }
  ]
}