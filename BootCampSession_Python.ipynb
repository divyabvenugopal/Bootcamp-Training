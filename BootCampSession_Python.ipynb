{
  "nbformat": 4,
  "nbformat_minor": 0,
  "metadata": {
    "colab": {
      "name": "BootCampSession_Python.ipynb",
      "provenance": [],
      "collapsed_sections": []
    },
    "kernelspec": {
      "name": "python3",
      "display_name": "Python 3"
    },
    "language_info": {
      "name": "python"
    }
  },
  "cells": [
    {
      "cell_type": "markdown",
      "source": [
        "# **BOOTCAMP SESSION - PYTHON**"
      ],
      "metadata": {
        "id": "S88q_XXsDyoP"
      }
    },
    {
      "cell_type": "code",
      "source": [
        "print(\"Hello World!\")"
      ],
      "metadata": {
        "colab": {
          "base_uri": "https://localhost:8080/"
        },
        "id": "CWcUAtQZDhrW",
        "outputId": "71922822-aa3a-40d5-b76e-2617acbc6fb8"
      },
      "execution_count": 1,
      "outputs": [
        {
          "output_type": "stream",
          "name": "stdout",
          "text": [
            "Hello World!\n"
          ]
        }
      ]
    },
    {
      "cell_type": "code",
      "source": [
        "# variables , types\n",
        "a=30\n",
        "a"
      ],
      "metadata": {
        "colab": {
          "base_uri": "https://localhost:8080/"
        },
        "id": "O3-INSFGDRwO",
        "outputId": "8f7b5aaf-6a62-45bb-c96e-97db48fa2d72"
      },
      "execution_count": 2,
      "outputs": [
        {
          "output_type": "execute_result",
          "data": {
            "text/plain": [
              "30"
            ]
          },
          "metadata": {},
          "execution_count": 2
        }
      ]
    },
    {
      "cell_type": "code",
      "source": [
        "#multiple assignment\n",
        "a=b=c=60\n",
        "print(a,b,c)"
      ],
      "metadata": {
        "colab": {
          "base_uri": "https://localhost:8080/"
        },
        "id": "3a3osC8KDR55",
        "outputId": "827c3443-592d-4ce3-9085-e53400caec7a"
      },
      "execution_count": 3,
      "outputs": [
        {
          "output_type": "stream",
          "name": "stdout",
          "text": [
            "60 60 60\n"
          ]
        }
      ]
    },
    {
      "cell_type": "code",
      "source": [
        "#multiple values\n",
        "a,b,c=20,6.7,\"IBM\"\n",
        "print(a,b,c)"
      ],
      "metadata": {
        "colab": {
          "base_uri": "https://localhost:8080/"
        },
        "id": "Ul5jkuwVDR96",
        "outputId": "518e1ee5-0133-4511-ae6a-e2350c21231f"
      },
      "execution_count": 4,
      "outputs": [
        {
          "output_type": "stream",
          "name": "stdout",
          "text": [
            "20 6.7 IBM\n"
          ]
        }
      ]
    },
    {
      "cell_type": "code",
      "source": [
        "str=\"string\"\n",
        "str[5]"
      ],
      "metadata": {
        "colab": {
          "base_uri": "https://localhost:8080/",
          "height": 35
        },
        "id": "f2N5Gv8GDSBi",
        "outputId": "81740d87-8a8c-4878-e5bf-355dc0de65f5"
      },
      "execution_count": 5,
      "outputs": [
        {
          "output_type": "execute_result",
          "data": {
            "text/plain": [
              "'g'"
            ],
            "application/vnd.google.colaboratory.intrinsic+json": {
              "type": "string"
            }
          },
          "metadata": {},
          "execution_count": 5
        }
      ]
    },
    {
      "cell_type": "code",
      "source": [
        "str[2:4]"
      ],
      "metadata": {
        "colab": {
          "base_uri": "https://localhost:8080/",
          "height": 35
        },
        "id": "RARjGuqID-aU",
        "outputId": "2cac350b-8fd7-4a13-b16b-6c322fe08af5"
      },
      "execution_count": 6,
      "outputs": [
        {
          "output_type": "execute_result",
          "data": {
            "text/plain": [
              "'ri'"
            ],
            "application/vnd.google.colaboratory.intrinsic+json": {
              "type": "string"
            }
          },
          "metadata": {},
          "execution_count": 6
        }
      ]
    },
    {
      "cell_type": "code",
      "source": [
        "str.index('s')"
      ],
      "metadata": {
        "colab": {
          "base_uri": "https://localhost:8080/"
        },
        "id": "p1nilWOoD-Tx",
        "outputId": "c5054bfd-fbf4-4343-cb34-0d0587c7b413"
      },
      "execution_count": 7,
      "outputs": [
        {
          "output_type": "execute_result",
          "data": {
            "text/plain": [
              "0"
            ]
          },
          "metadata": {},
          "execution_count": 7
        }
      ]
    },
    {
      "cell_type": "code",
      "source": [
        "str.upper()"
      ],
      "metadata": {
        "colab": {
          "base_uri": "https://localhost:8080/",
          "height": 35
        },
        "id": "87fYlABADSEY",
        "outputId": "badf5484-be16-45e7-ad1d-c3e6f54eb13c"
      },
      "execution_count": 8,
      "outputs": [
        {
          "output_type": "execute_result",
          "data": {
            "text/plain": [
              "'STRING'"
            ],
            "application/vnd.google.colaboratory.intrinsic+json": {
              "type": "string"
            }
          },
          "metadata": {},
          "execution_count": 8
        }
      ]
    },
    {
      "cell_type": "code",
      "source": [
        "str.lower()"
      ],
      "metadata": {
        "id": "J5c9hzQkto3s",
        "colab": {
          "base_uri": "https://localhost:8080/",
          "height": 35
        },
        "outputId": "be79546c-d12b-4c92-8e96-970bb06bc55a"
      },
      "execution_count": 9,
      "outputs": [
        {
          "output_type": "execute_result",
          "data": {
            "text/plain": [
              "'string'"
            ],
            "application/vnd.google.colaboratory.intrinsic+json": {
              "type": "string"
            }
          },
          "metadata": {},
          "execution_count": 9
        }
      ]
    },
    {
      "cell_type": "code",
      "source": [
        "s=\"  hi   \"\n",
        "s.strip()"
      ],
      "metadata": {
        "colab": {
          "base_uri": "https://localhost:8080/",
          "height": 35
        },
        "id": "MdZEDZOFDSHR",
        "outputId": "0cd76a96-b310-46d1-98c0-a9628fea3ae0"
      },
      "execution_count": 10,
      "outputs": [
        {
          "output_type": "execute_result",
          "data": {
            "text/plain": [
              "'hi'"
            ],
            "application/vnd.google.colaboratory.intrinsic+json": {
              "type": "string"
            }
          },
          "metadata": {},
          "execution_count": 10
        }
      ]
    },
    {
      "cell_type": "code",
      "source": [
        "age=22\n",
        "s1=\"Age is {}\"\n",
        "s1.format(age)"
      ],
      "metadata": {
        "colab": {
          "base_uri": "https://localhost:8080/",
          "height": 35
        },
        "id": "E_dQNOygG2_Z",
        "outputId": "94a0ac02-2145-42a2-962f-fe0a2b8170ef"
      },
      "execution_count": 11,
      "outputs": [
        {
          "output_type": "execute_result",
          "data": {
            "text/plain": [
              "'Age is 22'"
            ],
            "application/vnd.google.colaboratory.intrinsic+json": {
              "type": "string"
            }
          },
          "metadata": {},
          "execution_count": 11
        }
      ]
    },
    {
      "cell_type": "code",
      "source": [
        "for i in range(0,20,2):\n",
        "  print(i)"
      ],
      "metadata": {
        "colab": {
          "base_uri": "https://localhost:8080/"
        },
        "id": "5H5PztozHFrH",
        "outputId": "5fe1007c-6dac-4885-bdfd-5c57453d0301"
      },
      "execution_count": 12,
      "outputs": [
        {
          "output_type": "stream",
          "name": "stdout",
          "text": [
            "0\n",
            "2\n",
            "4\n",
            "6\n",
            "8\n",
            "10\n",
            "12\n",
            "14\n",
            "16\n",
            "18\n"
          ]
        }
      ]
    },
    {
      "cell_type": "code",
      "source": [
        "for i in range(20,0,-2):\n",
        "  print(i)"
      ],
      "metadata": {
        "colab": {
          "base_uri": "https://localhost:8080/"
        },
        "id": "TrpDreKoHN7y",
        "outputId": "7ce8b468-3177-4fdf-8b48-815b3a1ba198"
      },
      "execution_count": 13,
      "outputs": [
        {
          "output_type": "stream",
          "name": "stdout",
          "text": [
            "20\n",
            "18\n",
            "16\n",
            "14\n",
            "12\n",
            "10\n",
            "8\n",
            "6\n",
            "4\n",
            "2\n"
          ]
        }
      ]
    },
    {
      "cell_type": "code",
      "source": [
        "def calculator(a,b,op):\n",
        "    if(op==\"+\"):\n",
        "        return a+b\n",
        "    elif(op==\"-\"):\n",
        "        return a-b\n",
        "    elif(op==\"*\"):\n",
        "        return a*b\n",
        "    elif(op==\"/\"):\n",
        "        return a/b\n",
        "    else:\n",
        "        return \"Wrong Operator\"\n",
        "        \n",
        "print(calculator(5,10,\"*\"))"
      ],
      "metadata": {
        "colab": {
          "base_uri": "https://localhost:8080/"
        },
        "id": "yU71OfuaE2oT",
        "outputId": "84af2873-14e8-4d4d-92b0-f06129cb1bb6"
      },
      "execution_count": 14,
      "outputs": [
        {
          "output_type": "stream",
          "name": "stdout",
          "text": [
            "50\n"
          ]
        }
      ]
    },
    {
      "cell_type": "code",
      "source": [
        "#list\n",
        "l=[1,2,3,4,5]\n",
        "l[4]"
      ],
      "metadata": {
        "colab": {
          "base_uri": "https://localhost:8080/"
        },
        "id": "XZFrvr49E6u3",
        "outputId": "20c41f35-23e9-4508-ff5e-069fddaa54bf"
      },
      "execution_count": 15,
      "outputs": [
        {
          "output_type": "execute_result",
          "data": {
            "text/plain": [
              "5"
            ]
          },
          "metadata": {},
          "execution_count": 15
        }
      ]
    },
    {
      "cell_type": "code",
      "source": [
        "l[2:4]"
      ],
      "metadata": {
        "colab": {
          "base_uri": "https://localhost:8080/"
        },
        "id": "CZBDsMk1FGbr",
        "outputId": "95537500-6182-4741-f56d-0d85cfd13024"
      },
      "execution_count": 16,
      "outputs": [
        {
          "output_type": "execute_result",
          "data": {
            "text/plain": [
              "[3, 4]"
            ]
          },
          "metadata": {},
          "execution_count": 16
        }
      ]
    },
    {
      "cell_type": "code",
      "source": [
        "for i in l:\n",
        "  print(i)"
      ],
      "metadata": {
        "colab": {
          "base_uri": "https://localhost:8080/"
        },
        "id": "aYEsGFtZF8IR",
        "outputId": "750e8100-35a0-48a6-89e0-6502e26a654b"
      },
      "execution_count": 17,
      "outputs": [
        {
          "output_type": "stream",
          "name": "stdout",
          "text": [
            "1\n",
            "2\n",
            "3\n",
            "4\n",
            "5\n"
          ]
        }
      ]
    },
    {
      "cell_type": "code",
      "source": [
        "list1=['a',1,'IBM',5.5]\n",
        "\n",
        "if 'IBM' in list1:\n",
        "  print(\"Yes\")"
      ],
      "metadata": {
        "colab": {
          "base_uri": "https://localhost:8080/"
        },
        "id": "LbkKMT_RGBtF",
        "outputId": "8c1d154d-aefb-48dd-a604-88d59ab2ce9e"
      },
      "execution_count": 18,
      "outputs": [
        {
          "output_type": "stream",
          "name": "stdout",
          "text": [
            "Yes\n"
          ]
        }
      ]
    },
    {
      "cell_type": "code",
      "source": [
        "list1.insert(1,\"Hi\")\n",
        "list1"
      ],
      "metadata": {
        "colab": {
          "base_uri": "https://localhost:8080/"
        },
        "id": "1SkAaY3xGD2o",
        "outputId": "305ad627-9a08-4103-caf3-f9684c44a4d7"
      },
      "execution_count": 19,
      "outputs": [
        {
          "output_type": "execute_result",
          "data": {
            "text/plain": [
              "['a', 'Hi', 1, 'IBM', 5.5]"
            ]
          },
          "metadata": {},
          "execution_count": 19
        }
      ]
    },
    {
      "cell_type": "code",
      "source": [
        "list1.append('Training')\n",
        "list1"
      ],
      "metadata": {
        "colab": {
          "base_uri": "https://localhost:8080/"
        },
        "id": "7KLvzXVrGKLD",
        "outputId": "a97d1dcf-9ec2-4121-8efb-263c43491d9c"
      },
      "execution_count": 20,
      "outputs": [
        {
          "output_type": "execute_result",
          "data": {
            "text/plain": [
              "['a', 'Hi', 1, 'IBM', 5.5, 'Training']"
            ]
          },
          "metadata": {},
          "execution_count": 20
        }
      ]
    },
    {
      "cell_type": "code",
      "source": [
        "list1.pop()\n",
        "list1"
      ],
      "metadata": {
        "colab": {
          "base_uri": "https://localhost:8080/"
        },
        "id": "Vu2dGF44GK9C",
        "outputId": "4894be88-f878-4e45-a782-ba8f4d48d3e0"
      },
      "execution_count": 21,
      "outputs": [
        {
          "output_type": "execute_result",
          "data": {
            "text/plain": [
              "['a', 'Hi', 1, 'IBM', 5.5]"
            ]
          },
          "metadata": {},
          "execution_count": 21
        }
      ]
    },
    {
      "cell_type": "code",
      "source": [
        "list2=[8,\"Hey\"]\n",
        "list1.extend(list2)\n",
        "list1"
      ],
      "metadata": {
        "colab": {
          "base_uri": "https://localhost:8080/"
        },
        "id": "W2mMfy8vGUa8",
        "outputId": "f5511bcc-90bc-482d-fdb2-c8c90a40e4c5"
      },
      "execution_count": 22,
      "outputs": [
        {
          "output_type": "execute_result",
          "data": {
            "text/plain": [
              "['a', 'Hi', 1, 'IBM', 5.5, 8, 'Hey']"
            ]
          },
          "metadata": {},
          "execution_count": 22
        }
      ]
    },
    {
      "cell_type": "code",
      "execution_count": 23,
      "metadata": {
        "colab": {
          "base_uri": "https://localhost:8080/"
        },
        "id": "lEngeMKlEW7b",
        "outputId": "aa8055ab-4aad-4b9b-d6f0-fbaabcbd5806"
      },
      "outputs": [
        {
          "output_type": "execute_result",
          "data": {
            "text/plain": [
              "['a', 1, 'IBM', 5.5, 8, 'Hey']"
            ]
          },
          "metadata": {},
          "execution_count": 23
        }
      ],
      "source": [
        "list1.remove(\"Hi\")\n",
        "list1"
      ]
    },
    {
      "cell_type": "code",
      "source": [
        "list1=range(5)\n",
        "for i in list1:\n",
        "  print(i)"
      ],
      "metadata": {
        "colab": {
          "base_uri": "https://localhost:8080/"
        },
        "id": "Lz94Nfgbtihp",
        "outputId": "22608db9-ce4a-4474-eeb3-e0e7f82bc80e"
      },
      "execution_count": 24,
      "outputs": [
        {
          "output_type": "stream",
          "name": "stdout",
          "text": [
            "0\n",
            "1\n",
            "2\n",
            "3\n",
            "4\n"
          ]
        }
      ]
    },
    {
      "cell_type": "code",
      "source": [
        "# List comphension\n",
        "newl=[i for i in range(5)]\n",
        "newl"
      ],
      "metadata": {
        "id": "R4lMVNPlulNR",
        "colab": {
          "base_uri": "https://localhost:8080/"
        },
        "outputId": "a6b5cd5e-d2e5-4b19-f00f-376e8d33ee86"
      },
      "execution_count": 25,
      "outputs": [
        {
          "output_type": "execute_result",
          "data": {
            "text/plain": [
              "[0, 1, 2, 3, 4]"
            ]
          },
          "metadata": {},
          "execution_count": 25
        }
      ]
    },
    {
      "cell_type": "code",
      "source": [
        "#Tuple\n",
        "tuple1=('a',1,'IBM',5.5)\n",
        "tuple1"
      ],
      "metadata": {
        "id": "eUC_2mqAuq3F",
        "colab": {
          "base_uri": "https://localhost:8080/"
        },
        "outputId": "dc83e30f-476b-4a14-c6d5-245e1dfb0ff8"
      },
      "execution_count": 26,
      "outputs": [
        {
          "output_type": "execute_result",
          "data": {
            "text/plain": [
              "('a', 1, 'IBM', 5.5)"
            ]
          },
          "metadata": {},
          "execution_count": 26
        }
      ]
    },
    {
      "cell_type": "code",
      "source": [
        "tuple2=tuple()\n",
        "tuple2"
      ],
      "metadata": {
        "id": "Y3AlQV2tuvca",
        "colab": {
          "base_uri": "https://localhost:8080/"
        },
        "outputId": "a6b00a8f-bad9-41e0-c7b5-4ec955c85289"
      },
      "execution_count": 27,
      "outputs": [
        {
          "output_type": "execute_result",
          "data": {
            "text/plain": [
              "()"
            ]
          },
          "metadata": {},
          "execution_count": 27
        }
      ]
    },
    {
      "cell_type": "code",
      "source": [
        "#indexing\n",
        "tuple1[2]"
      ],
      "metadata": {
        "id": "aalxMwlMvAjs",
        "colab": {
          "base_uri": "https://localhost:8080/",
          "height": 35
        },
        "outputId": "a8ae4f72-80f7-4ac3-a0e1-8015c5c17f68"
      },
      "execution_count": 28,
      "outputs": [
        {
          "output_type": "execute_result",
          "data": {
            "text/plain": [
              "'IBM'"
            ],
            "application/vnd.google.colaboratory.intrinsic+json": {
              "type": "string"
            }
          },
          "metadata": {},
          "execution_count": 28
        }
      ]
    },
    {
      "cell_type": "code",
      "source": [
        "tuple2=('Hi',346,'abc',234)\n",
        "tuple2"
      ],
      "metadata": {
        "colab": {
          "base_uri": "https://localhost:8080/"
        },
        "id": "LPOzRmTWvDut",
        "outputId": "92f0e17f-3f11-492e-f195-fe5abafe6f0b"
      },
      "execution_count": 29,
      "outputs": [
        {
          "output_type": "execute_result",
          "data": {
            "text/plain": [
              "('Hi', 346, 'abc', 234)"
            ]
          },
          "metadata": {},
          "execution_count": 29
        }
      ]
    },
    {
      "cell_type": "code",
      "source": [
        "tuple1=tuple2\n",
        "tuple1"
      ],
      "metadata": {
        "colab": {
          "base_uri": "https://localhost:8080/"
        },
        "id": "LFuCW64ovFw8",
        "outputId": "e9e201a4-2b61-474e-de9d-3fbbafc498ea"
      },
      "execution_count": 30,
      "outputs": [
        {
          "output_type": "execute_result",
          "data": {
            "text/plain": [
              "('Hi', 346, 'abc', 234)"
            ]
          },
          "metadata": {},
          "execution_count": 30
        }
      ]
    },
    {
      "cell_type": "code",
      "source": [
        "lst_tuple=list(tuple1)\n",
        "lst_tuple"
      ],
      "metadata": {
        "id": "9GDRT-tuvOTn",
        "colab": {
          "base_uri": "https://localhost:8080/"
        },
        "outputId": "700b86f4-1ee7-4388-cd38-f081f0398079"
      },
      "execution_count": 31,
      "outputs": [
        {
          "output_type": "execute_result",
          "data": {
            "text/plain": [
              "['Hi', 346, 'abc', 234]"
            ]
          },
          "metadata": {},
          "execution_count": 31
        }
      ]
    },
    {
      "cell_type": "code",
      "source": [
        "lst_tuple.remove(234)\n",
        "lst_tuple"
      ],
      "metadata": {
        "id": "geugi1-UvPFu",
        "colab": {
          "base_uri": "https://localhost:8080/"
        },
        "outputId": "80955767-e56b-4ceb-ecb3-12bcb215fe6c"
      },
      "execution_count": 32,
      "outputs": [
        {
          "output_type": "execute_result",
          "data": {
            "text/plain": [
              "['Hi', 346, 'abc']"
            ]
          },
          "metadata": {},
          "execution_count": 32
        }
      ]
    },
    {
      "cell_type": "code",
      "source": [
        "tuple(lst_tuple)"
      ],
      "metadata": {
        "id": "puSsaeg0vSR1",
        "colab": {
          "base_uri": "https://localhost:8080/"
        },
        "outputId": "8e6e7c6a-d2ff-4d54-eda3-f8d59829f7ad"
      },
      "execution_count": 33,
      "outputs": [
        {
          "output_type": "execute_result",
          "data": {
            "text/plain": [
              "('Hi', 346, 'abc')"
            ]
          },
          "metadata": {},
          "execution_count": 33
        }
      ]
    },
    {
      "cell_type": "code",
      "source": [
        "del tuple1"
      ],
      "metadata": {
        "id": "VWuov-81vdT7"
      },
      "execution_count": 34,
      "outputs": []
    },
    {
      "cell_type": "code",
      "source": [
        "for i in tuple2:\n",
        "  print(i)"
      ],
      "metadata": {
        "id": "RzjEVl9pvkby",
        "colab": {
          "base_uri": "https://localhost:8080/"
        },
        "outputId": "1b65a1c3-0c5d-4ce5-fd38-d7c91e01c094"
      },
      "execution_count": 35,
      "outputs": [
        {
          "output_type": "stream",
          "name": "stdout",
          "text": [
            "Hi\n",
            "346\n",
            "abc\n",
            "234\n"
          ]
        }
      ]
    },
    {
      "cell_type": "code",
      "source": [
        "tuple2.count(3)"
      ],
      "metadata": {
        "id": "mIHVwGCcvyyy",
        "colab": {
          "base_uri": "https://localhost:8080/"
        },
        "outputId": "63264f32-2b26-4d5b-a330-1389711f7aad"
      },
      "execution_count": 36,
      "outputs": [
        {
          "output_type": "execute_result",
          "data": {
            "text/plain": [
              "0"
            ]
          },
          "metadata": {},
          "execution_count": 36
        }
      ]
    },
    {
      "cell_type": "code",
      "source": [
        "tuple2.index(346)"
      ],
      "metadata": {
        "id": "VJtemuREv0kD",
        "colab": {
          "base_uri": "https://localhost:8080/"
        },
        "outputId": "d54d58c6-d786-4fee-9d4d-0d5a93a4e9ce"
      },
      "execution_count": 37,
      "outputs": [
        {
          "output_type": "execute_result",
          "data": {
            "text/plain": [
              "1"
            ]
          },
          "metadata": {},
          "execution_count": 37
        }
      ]
    },
    {
      "cell_type": "code",
      "source": [
        "#set\n",
        "set1=set()"
      ],
      "metadata": {
        "id": "jDKXf_MowIRl"
      },
      "execution_count": 38,
      "outputs": []
    },
    {
      "cell_type": "code",
      "source": [
        "set1={1,2,3,4,2,3,5,6}\n",
        "set1"
      ],
      "metadata": {
        "id": "yteSeOzMwNq0",
        "colab": {
          "base_uri": "https://localhost:8080/"
        },
        "outputId": "8ba5fba8-a8c5-4c6d-8423-366e8a53c0cd"
      },
      "execution_count": 39,
      "outputs": [
        {
          "output_type": "execute_result",
          "data": {
            "text/plain": [
              "{1, 2, 3, 4, 5, 6}"
            ]
          },
          "metadata": {},
          "execution_count": 39
        }
      ]
    },
    {
      "cell_type": "code",
      "source": [
        "print(len(set1))"
      ],
      "metadata": {
        "id": "OEQYWOkOwNkz",
        "colab": {
          "base_uri": "https://localhost:8080/"
        },
        "outputId": "aa0e7b98-c3bb-4dcf-9f36-e1d5d3788f7a"
      },
      "execution_count": 40,
      "outputs": [
        {
          "output_type": "stream",
          "name": "stdout",
          "text": [
            "6\n"
          ]
        }
      ]
    },
    {
      "cell_type": "code",
      "source": [
        "set2=set((1,2,2,3,3,3))\n",
        "set2"
      ],
      "metadata": {
        "id": "2hM6iQs5wVtF",
        "colab": {
          "base_uri": "https://localhost:8080/"
        },
        "outputId": "80837075-a94c-43f7-e04e-c7c66781358c"
      },
      "execution_count": 41,
      "outputs": [
        {
          "output_type": "execute_result",
          "data": {
            "text/plain": [
              "{1, 2, 3}"
            ]
          },
          "metadata": {},
          "execution_count": 41
        }
      ]
    },
    {
      "cell_type": "code",
      "source": [
        "3 in set2"
      ],
      "metadata": {
        "id": "JAMDoGzHwXYU",
        "colab": {
          "base_uri": "https://localhost:8080/"
        },
        "outputId": "3ab931c1-367e-4839-90f8-029335eb8c24"
      },
      "execution_count": 42,
      "outputs": [
        {
          "output_type": "execute_result",
          "data": {
            "text/plain": [
              "True"
            ]
          },
          "metadata": {},
          "execution_count": 42
        }
      ]
    },
    {
      "cell_type": "code",
      "source": [
        "set2.add(\"IBM\")\n",
        "set2"
      ],
      "metadata": {
        "id": "rUnyUtZzwbOi",
        "colab": {
          "base_uri": "https://localhost:8080/"
        },
        "outputId": "d89fbe18-f964-447e-f23b-1b79e4e79f6c"
      },
      "execution_count": 43,
      "outputs": [
        {
          "output_type": "execute_result",
          "data": {
            "text/plain": [
              "{1, 2, 3, 'IBM'}"
            ]
          },
          "metadata": {},
          "execution_count": 43
        }
      ]
    },
    {
      "cell_type": "code",
      "source": [
        "set2.pop()\n",
        "set2"
      ],
      "metadata": {
        "id": "YyeeT2PBwgbd",
        "colab": {
          "base_uri": "https://localhost:8080/"
        },
        "outputId": "84655dd8-1f26-48c0-ea88-817302b86c47"
      },
      "execution_count": 44,
      "outputs": [
        {
          "output_type": "execute_result",
          "data": {
            "text/plain": [
              "{2, 3, 'IBM'}"
            ]
          },
          "metadata": {},
          "execution_count": 44
        }
      ]
    },
    {
      "cell_type": "code",
      "source": [
        "set1.clear()\n",
        "set1"
      ],
      "metadata": {
        "id": "nXXe2H08wlpY",
        "colab": {
          "base_uri": "https://localhost:8080/"
        },
        "outputId": "86755ebf-914a-4885-f83a-339bb8410276"
      },
      "execution_count": 45,
      "outputs": [
        {
          "output_type": "execute_result",
          "data": {
            "text/plain": [
              "set()"
            ]
          },
          "metadata": {},
          "execution_count": 45
        }
      ]
    },
    {
      "cell_type": "code",
      "source": [
        "del set1"
      ],
      "metadata": {
        "id": "xlBTiiVSw7j1"
      },
      "execution_count": 46,
      "outputs": []
    },
    {
      "cell_type": "code",
      "source": [
        "dict1={\n",
        "    \"key1\":\"value1\",\n",
        "    \"key2\":\"value2\",\n",
        "    \"key3\":\"value3\"\n",
        "}\n",
        "dict1"
      ],
      "metadata": {
        "id": "GTeAmsEYvpC9",
        "colab": {
          "base_uri": "https://localhost:8080/"
        },
        "outputId": "e76b5df0-5753-4d97-e277-6955b62678fe"
      },
      "execution_count": 47,
      "outputs": [
        {
          "output_type": "execute_result",
          "data": {
            "text/plain": [
              "{'key1': 'value1', 'key2': 'value2', 'key3': 'value3'}"
            ]
          },
          "metadata": {},
          "execution_count": 47
        }
      ]
    },
    {
      "cell_type": "code",
      "source": [
        "dict1[\"key2\"]"
      ],
      "metadata": {
        "id": "b_FU0ynHxNbR",
        "colab": {
          "base_uri": "https://localhost:8080/",
          "height": 35
        },
        "outputId": "6fe2c2e5-b5d2-4bff-9b9b-2b768a20adf2"
      },
      "execution_count": 48,
      "outputs": [
        {
          "output_type": "execute_result",
          "data": {
            "text/plain": [
              "'value2'"
            ],
            "application/vnd.google.colaboratory.intrinsic+json": {
              "type": "string"
            }
          },
          "metadata": {},
          "execution_count": 48
        }
      ]
    },
    {
      "cell_type": "code",
      "source": [
        "dict2={\n",
        "    \"keya\":\"valuea\",\n",
        "    \"keyb\":123,\n",
        "    \"keyc\":345\n",
        "}\n",
        "dict2"
      ],
      "metadata": {
        "id": "QzbXXIVhxP4H",
        "colab": {
          "base_uri": "https://localhost:8080/"
        },
        "outputId": "51c64e06-4c67-4510-f808-d68e0e8faa51"
      },
      "execution_count": 49,
      "outputs": [
        {
          "output_type": "execute_result",
          "data": {
            "text/plain": [
              "{'keya': 'valuea', 'keyb': 123, 'keyc': 345}"
            ]
          },
          "metadata": {},
          "execution_count": 49
        }
      ]
    },
    {
      "cell_type": "code",
      "source": [
        "len(dict2)"
      ],
      "metadata": {
        "id": "9fpYkr1_xUPI",
        "colab": {
          "base_uri": "https://localhost:8080/"
        },
        "outputId": "71324411-21fd-4d5e-fd76-ae02ff57b15d"
      },
      "execution_count": 50,
      "outputs": [
        {
          "output_type": "execute_result",
          "data": {
            "text/plain": [
              "3"
            ]
          },
          "metadata": {},
          "execution_count": 50
        }
      ]
    },
    {
      "cell_type": "code",
      "source": [
        "dict1.get(\"key2\")"
      ],
      "metadata": {
        "id": "J-yViC6ZxWIS",
        "colab": {
          "base_uri": "https://localhost:8080/",
          "height": 35
        },
        "outputId": "d22319d5-2c0c-4b92-b18c-91f4684d021d"
      },
      "execution_count": 51,
      "outputs": [
        {
          "output_type": "execute_result",
          "data": {
            "text/plain": [
              "'value2'"
            ],
            "application/vnd.google.colaboratory.intrinsic+json": {
              "type": "string"
            }
          },
          "metadata": {},
          "execution_count": 51
        }
      ]
    },
    {
      "cell_type": "code",
      "source": [
        "dict1.keys()"
      ],
      "metadata": {
        "id": "CVwRM36Rxd8z",
        "colab": {
          "base_uri": "https://localhost:8080/"
        },
        "outputId": "beb778b1-18d8-4ddb-9afb-27aaba574974"
      },
      "execution_count": 52,
      "outputs": [
        {
          "output_type": "execute_result",
          "data": {
            "text/plain": [
              "dict_keys(['key1', 'key2', 'key3'])"
            ]
          },
          "metadata": {},
          "execution_count": 52
        }
      ]
    },
    {
      "cell_type": "code",
      "source": [
        "dict1.values()"
      ],
      "metadata": {
        "id": "Ij7Z9r8Txdeg",
        "colab": {
          "base_uri": "https://localhost:8080/"
        },
        "outputId": "06f111a8-aa21-417e-fec1-309290a408bf"
      },
      "execution_count": 53,
      "outputs": [
        {
          "output_type": "execute_result",
          "data": {
            "text/plain": [
              "dict_values(['value1', 'value2', 'value3'])"
            ]
          },
          "metadata": {},
          "execution_count": 53
        }
      ]
    },
    {
      "cell_type": "code",
      "source": [
        "dict1.items()"
      ],
      "metadata": {
        "id": "0onvgiTjxjSC",
        "colab": {
          "base_uri": "https://localhost:8080/"
        },
        "outputId": "2e0bf8bd-598f-4f0b-de7d-325c2976ca4a"
      },
      "execution_count": 54,
      "outputs": [
        {
          "output_type": "execute_result",
          "data": {
            "text/plain": [
              "dict_items([('key1', 'value1'), ('key2', 'value2'), ('key3', 'value3')])"
            ]
          },
          "metadata": {},
          "execution_count": 54
        }
      ]
    },
    {
      "cell_type": "code",
      "source": [
        "\"key1\" in dict1"
      ],
      "metadata": {
        "id": "MpiRfj6Exln9",
        "colab": {
          "base_uri": "https://localhost:8080/"
        },
        "outputId": "03073e6f-2c05-4433-99ed-4d11b80f1138"
      },
      "execution_count": 55,
      "outputs": [
        {
          "output_type": "execute_result",
          "data": {
            "text/plain": [
              "True"
            ]
          },
          "metadata": {},
          "execution_count": 55
        }
      ]
    },
    {
      "cell_type": "code",
      "source": [
        "for i in dict1:\n",
        "  print(dict1[i])"
      ],
      "metadata": {
        "id": "idoYq510xoyl",
        "colab": {
          "base_uri": "https://localhost:8080/"
        },
        "outputId": "ce9bebe3-5612-4d22-8975-2d50add0b75f"
      },
      "execution_count": 56,
      "outputs": [
        {
          "output_type": "stream",
          "name": "stdout",
          "text": [
            "value1\n",
            "value2\n",
            "value3\n"
          ]
        }
      ]
    },
    {
      "cell_type": "code",
      "source": [
        "dict2=dict1.copy()\n",
        "dict2"
      ],
      "metadata": {
        "id": "AiLw3-8Nxq9b",
        "colab": {
          "base_uri": "https://localhost:8080/"
        },
        "outputId": "ce1f9b58-1b59-40ae-b75e-7d7516899799"
      },
      "execution_count": 57,
      "outputs": [
        {
          "output_type": "execute_result",
          "data": {
            "text/plain": [
              "{'key1': 'value1', 'key2': 'value2', 'key3': 'value3'}"
            ]
          },
          "metadata": {},
          "execution_count": 57
        }
      ]
    },
    {
      "cell_type": "code",
      "source": [
        "dict1={\n",
        "    \"Employee1\":{\n",
        "        \"Name\":\"ABC\",\n",
        "        \"YOJ\":2022\n",
        "    },\n",
        "    \"Employee2\":{\n",
        "        \"Name\":\"DEF\",\n",
        "        \"YOJ\":2021\n",
        "    }\n",
        "}\n",
        "dict1"
      ],
      "metadata": {
        "id": "FXJUDwDIx2WO",
        "colab": {
          "base_uri": "https://localhost:8080/"
        },
        "outputId": "e6f409a1-157f-45a2-b8a7-d4c6a5cea4e6"
      },
      "execution_count": 58,
      "outputs": [
        {
          "output_type": "execute_result",
          "data": {
            "text/plain": [
              "{'Employee1': {'Name': 'ABC', 'YOJ': 2022},\n",
              " 'Employee2': {'Name': 'DEF', 'YOJ': 2021}}"
            ]
          },
          "metadata": {},
          "execution_count": 58
        }
      ]
    },
    {
      "cell_type": "code",
      "source": [
        "dict1[\"Employee1\"][\"Name\"]"
      ],
      "metadata": {
        "id": "3A06O4KjxEq8",
        "colab": {
          "base_uri": "https://localhost:8080/",
          "height": 35
        },
        "outputId": "e0c3826d-8d56-4f2b-fb53-ac87baf7b835"
      },
      "execution_count": 59,
      "outputs": [
        {
          "output_type": "execute_result",
          "data": {
            "text/plain": [
              "'ABC'"
            ],
            "application/vnd.google.colaboratory.intrinsic+json": {
              "type": "string"
            }
          },
          "metadata": {},
          "execution_count": 59
        }
      ]
    },
    {
      "cell_type": "code",
      "source": [
        "def square(num):\n",
        "  return(num*num)\n",
        "\n",
        "print(square(5))\n",
        "\n",
        "squared_value = lambda n:n*n\n",
        "print(squared_value(5))"
      ],
      "metadata": {
        "colab": {
          "base_uri": "https://localhost:8080/"
        },
        "id": "UTqWPhSlVk4Y",
        "outputId": "9dfb5dda-8139-4bcf-afae-c76e0e3b145b"
      },
      "execution_count": 60,
      "outputs": [
        {
          "output_type": "stream",
          "name": "stdout",
          "text": [
            "25\n",
            "25\n"
          ]
        }
      ]
    }
  ]
}